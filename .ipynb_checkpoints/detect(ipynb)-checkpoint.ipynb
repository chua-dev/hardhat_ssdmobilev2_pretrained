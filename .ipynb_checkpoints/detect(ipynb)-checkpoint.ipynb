{
 "cells": [
  {
   "cell_type": "code",
   "execution_count": 3,
   "metadata": {
    "scrolled": false
   },
   "outputs": [
    {
     "name": "stdout",
     "output_type": "stream",
     "text": [
      "Building label map from examples\n",
      "Label map witten to labelmap.pbtxt\n",
      "['item {\\n',\n",
      " '  name: \"hardhat\"\\n',\n",
      " '  id: 1\\n',\n",
      " '}\\n',\n",
      " 'item {\\n',\n",
      " '  name: \"none\"\\n',\n",
      " '  id: 2\\n',\n",
      " '}\\n']\n"
     ]
    }
   ],
   "source": [
    "import numpy as np\n",
    "import pandas as pd\n",
    "import tensorflow as tf\n",
    "from PIL import Image\n",
    "from matplotlib import pyplot as plt\n",
    "from tensorflow.python.util import compat\n",
    "from tensorflow.core.protobuf import saved_model_pb2\n",
    "from google.protobuf import text_format\n",
    "import pprint\n",
    "import os\n",
    "\n",
    "from object_detection.utils import visualization_utils as vis_util\n",
    "from object_detection.utils import dataset_util, label_map_util\n",
    "from object_detection.protos import string_int_label_map_pb2\n",
    "\n",
    "# ALL THE FUNCTION TO BE USED\n",
    "\n",
    "# Reconstruct Frozen Graph\n",
    "def reconstruct(pb_path):\n",
    "    if not os.path.isfile(pb_path):\n",
    "        print(\"Error: %s not found\" % pb_path)\n",
    "\n",
    "    print(\"Reconstructing Tensorflow model\")\n",
    "    detection_graph = tf.Graph()\n",
    "    with detection_graph.as_default():\n",
    "        od_graph_def = tf.compat.v1.GraphDef()\n",
    "        with tf.io.gfile.GFile(pb_path, 'rb') as fid:\n",
    "            serialized_graph = fid.read()\n",
    "            od_graph_def.ParseFromString(serialized_graph)\n",
    "            tf.import_graph_def(od_graph_def, name='')\n",
    "    print(\"Success!\")\n",
    "    return detection_graph\n",
    "\n",
    "# visualize detection\n",
    "def image2np(image):\n",
    "    (w, h) = image.size\n",
    "    return np.array(image.getdata()).reshape((h, w, 3)).astype(np.uint8)\n",
    "\n",
    "# Conver Iamge to Tensor\n",
    "def image2tensor(image):\n",
    "    npim = image2np(image)\n",
    "    return np.expand_dims(npim, axis=0)\n",
    "\n",
    "#%matplotlib inline\n",
    "def detect(detection_graph, test_image_path):\n",
    "    with detection_graph.as_default():\n",
    "        gpu_options = tf.compat.v1.GPUOptions(per_process_gpu_memory_fraction=0.01)\n",
    "        with tf.compat.v1.Session(graph=detection_graph,config=tf.compat.v1.ConfigProto(gpu_options=gpu_options)) as sess:\n",
    "            image_tensor = detection_graph.get_tensor_by_name('image_tensor:0')\n",
    "            detection_boxes = detection_graph.get_tensor_by_name('detection_boxes:0')\n",
    "            detection_scores = detection_graph.get_tensor_by_name('detection_scores:0')\n",
    "            detection_classes = detection_graph.get_tensor_by_name('detection_classes:0')\n",
    "            num_detections = detection_graph.get_tensor_by_name('num_detections:0')\n",
    "\n",
    "            image = Image.open(test_image_path)\n",
    "            (boxes, scores, classes, num) = sess.run(\n",
    "                [detection_boxes, detection_scores, detection_classes, num_detections],\n",
    "                feed_dict={image_tensor: image2tensor(image)}\n",
    "            )\n",
    "\n",
    "            npim = image2np(image)\n",
    "            vis_util.visualize_boxes_and_labels_on_image_array(\n",
    "                npim,\n",
    "                np.squeeze(boxes),\n",
    "                np.squeeze(classes).astype(np.int32),\n",
    "                np.squeeze(scores),\n",
    "                category_index,\n",
    "                use_normalized_coordinates=True,\n",
    "                line_thickness=5)\n",
    "            #plt.figure(figsize=(12, 8))\n",
    "            #plt.imshow(npim)\n",
    "            #plt.show()\n",
    "            img = Image.fromarray(npim, 'RGB')\n",
    "            img.show()\n",
    "\n",
    "# END OF FUNCTION TO BE USE\n",
    "\n",
    "\n",
    "# Create pb label file\n",
    "categories = [\"hardhat\", \"none\"]\n",
    "NCLASSES = 2\n",
    "\n",
    "print('Building label map from examples')\n",
    "\n",
    "labelmap = string_int_label_map_pb2.StringIntLabelMap()\n",
    "for idx,category in enumerate(categories):\n",
    "    item = labelmap.item.add()\n",
    "    # label map id 0 is reserved for the background label\n",
    "    item.id = idx+1\n",
    "    item.name = category\n",
    "\n",
    "with open('./labelmap.pbtxt', 'w') as f:\n",
    "    f.write(text_format.MessageToString(labelmap))\n",
    "\n",
    "print('Label map witten to labelmap.pbtxt')\n",
    "\n",
    "with open('./labelmap.pbtxt') as f:\n",
    "    pprint.pprint(f.readlines())\n",
    "\n",
    "# Load label map category\n",
    "label_map = label_map_util.load_labelmap('labelmap.pbtxt')\n",
    "categories = label_map_util.convert_label_map_to_categories(label_map, max_num_classes=NCLASSES, use_display_name=True)\n",
    "category_index = label_map_util.create_category_index(categories)"
   ]
  },
  {
   "cell_type": "code",
   "execution_count": 4,
   "metadata": {},
   "outputs": [
    {
     "name": "stdout",
     "output_type": "stream",
     "text": [
      "Reconstructing Tensorflow model\n",
      "Success!\n"
     ]
    }
   ],
   "source": [
    "detection_graph = reconstruct(\"model/ssd_mobilenet_v2_hardhat_2018_03_29.pb\")\n",
    "\n",
    "detect(detection_graph, 'photo/hardhat1.jpeg')"
   ]
  },
  {
   "cell_type": "code",
   "execution_count": null,
   "metadata": {},
   "outputs": [],
   "source": []
  }
 ],
 "metadata": {
  "kernelspec": {
   "display_name": "Python 3",
   "language": "python",
   "name": "python3"
  },
  "language_info": {
   "codemirror_mode": {
    "name": "ipython",
    "version": 3
   },
   "file_extension": ".py",
   "mimetype": "text/x-python",
   "name": "python",
   "nbconvert_exporter": "python",
   "pygments_lexer": "ipython3",
   "version": "3.8.5"
  }
 },
 "nbformat": 4,
 "nbformat_minor": 4
}
